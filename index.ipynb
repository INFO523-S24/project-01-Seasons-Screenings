{
  "cells": [
    {
      "cell_type": "raw",
      "metadata": {},
      "source": [
        "---\n",
        "title: 'Season''s Screenings: Exploring Trends in Holiday Movies'\n",
        "subtitle: INFO 523 - Project 1\n",
        "author: Season's Screenings\n",
        "format: html\n",
        "editor: visual\n",
        "---"
      ],
      "id": "899bb56a"
    },
    {
      "cell_type": "markdown",
      "metadata": {},
      "source": [
        "## Abstract\n",
        "\n",
        "The provided dataset is a structured compilation of films with a central theme or element of holidays, spanning almost a century from 1929 to 2022. The dataset includes various attributes such as the original title of the movie, its release year, the runtime in minutes, the genre(s), a simplified title, the average rating, the number of votes the movie received, and boolean indicators for its association with major holidays like Christmas, Hanukkah, Kwanzaa, and whether it is related to a holiday in general. We performed exploratory data analysis on the dataset to discover trends and interesting insights and did some further analysis to answer the following two questions: How have popular movies been changing over the decades? What kind of holiday movies earn the most money?\n",
        "\n",
        "## How have popular movies changed over the decades?\n",
        "\n",
        "### Introduction\n",
        "The objective of the proposed analysis is to explore the evolution of popular holiday movies across decades. The focus will be on movies with average ratings in the upper two quartiles, which suggests a positive reception from viewers. This subset of data is essential to understand the shifting preferences of the audience in terms of genre, movie duration, and title length. By isolating films that are more favored, we aim to identify patterns that signify what attributes contribute to the success and popularity of holiday movies.\n",
        "\n",
        "\n",
        "To answer this question, we will employ specific parts of the dataset that include the title, release year, genre, duration, and ratings of each movie. An additional variable—Title Length—will be calculated to examine the correlation between the length of a movie’s title and its popularity. Rating quartiles will be used to classify movies into different levels of reception. Furthermore, the Genre Count will provide insights into the complexity and variety within holiday movies. This analysis is not just a reflection of cinematic trends but also serves to illuminate the changing cultural landscape surrounding holiday themes in films, thus offering valuable information to both film enthusiasts and industry analysts.\n",
        "\n",
        "### Approach\n",
        "To address the question of how popular holiday movies have changed over the decades, our approach will involve a blend of descriptive statistics and visual analysis. Firstly, we will perform quartile analysis to categorize movies based on their average ratings. This method segments the data into four equal parts, allowing us to focus specifically on movies in the 3rd to 4th quartile range, which are deemed popular by viewers. Quartile analysis is an effective way to filter the dataset and ensure that the subsequent trends we observe are representative of films that have been well-received, providing a clear picture of what attributes are associated with higher ratings.\n",
        "\n",
        "For the visual analysis, two types of plots will be created. The first plot will be a multi-faceted bar chart that illustrates the distribution of genres within the top quartiles over different decades. By using color mapping, we will be able to distinguish between genres within the same time frame easily, which will enable us to identify any shifts in genre popularity or diversification trends. The second plot will be a scatter plot correlating movie duration and average rating, with movies also color-coded based on their title length. This will allow us to observe if there's a preferred movie length that correlates with higher ratings, and whether longer or shorter movie titles are trending among the more popular films. The use of facets will further enhance this analysis by breaking down these trends by decade, giving us a temporal perspective on how these relationships have evolved over time. Both methods combined will provide a comprehensive understanding of the dynamics of popular holiday movies, highlighting changes in consumer preferences and industry patterns.\n",
        "\n",
        "### Analysis \n"
      ],
      "id": "8a62e8c1"
    },
    {
      "cell_type": "code",
      "metadata": {},
      "source": [
        "#| label: import-libraries\n",
        "\n",
        "import pandas as pd\n",
        "import numpy as np\n",
        "import seaborn as sns\n",
        "import matplotlib.pyplot as plt\n",
        "import missingno as msno"
      ],
      "id": "import-libraries",
      "execution_count": null,
      "outputs": []
    },
    {
      "cell_type": "code",
      "metadata": {},
      "source": [
        "#| label: load-holiday-movies\n",
        "\n",
        "df = pd.read_csv('data/holiday_movies.csv')\n",
        "# display the first five rows of the dataset\n",
        "df.head()"
      ],
      "id": "load-holiday-movies",
      "execution_count": null,
      "outputs": []
    },
    {
      "cell_type": "code",
      "metadata": {},
      "source": [
        "#| label: describe-data-variables-and-data-types\n",
        "\n",
        "# check data info\n",
        "df.info()"
      ],
      "id": "describe-data-variables-and-data-types",
      "execution_count": null,
      "outputs": []
    },
    {
      "cell_type": "markdown",
      "metadata": {},
      "source": [
        "The data has 14 columns with varying data types. \n"
      ],
      "id": "85d71c59"
    },
    {
      "cell_type": "code",
      "metadata": {},
      "source": [
        "#| label: describe-data-shape\n",
        "\n",
        "# check data shape\n",
        "df.shape"
      ],
      "id": "describe-data-shape",
      "execution_count": null,
      "outputs": []
    },
    {
      "cell_type": "markdown",
      "metadata": {},
      "source": [
        "The data has 2265 rows and 14 columns.\n"
      ],
      "id": "6f29c2f0"
    },
    {
      "cell_type": "code",
      "metadata": {},
      "source": [
        "#| label: load-holiday-movies-genres\n",
        "\n",
        "new_genres = pd.read_csv('data/holiday_movie_genres.csv')\n",
        "# display the first five rows of the dataset\n",
        "new_genres.head()"
      ],
      "id": "load-holiday-movies-genres",
      "execution_count": null,
      "outputs": []
    },
    {
      "cell_type": "markdown",
      "metadata": {},
      "source": [
        "#### Exploratory Data Analysis\n",
        "We performed exploratory data analysis to discover insights and trends in the dataset based on the variables. This step helps to uncover some interesting patterns to understand the data better.\n"
      ],
      "id": "d63a770d"
    },
    {
      "cell_type": "code",
      "metadata": {},
      "source": [
        "#| label: year-EDA\n",
        "\n",
        "# summary statistics\n",
        "print(df['year'].describe())\n",
        "\n",
        "# histogram\n",
        "sns.displot(data = df, x = \"year\", \n",
        "            bins = 15, height = 5, aspect = 8/5)\n",
        "plt.title('Histogram of the Year of Movies')\n",
        "plt.show()"
      ],
      "id": "year-EDA",
      "execution_count": null,
      "outputs": []
    },
    {
      "cell_type": "markdown",
      "metadata": {},
      "source": [
        "The histogram above shows an interesting insight: a significant number of movies were released between the year 2000 and 2020. \n"
      ],
      "id": "ca1435bf"
    },
    {
      "cell_type": "code",
      "metadata": {},
      "source": [
        "#| label: runtime-minutes-EDA\n",
        "\n",
        "print(df['runtime_minutes'].describe())\n",
        "\n",
        "# histogram\n",
        "sns.displot(data = df, x = \"runtime_minutes\", \n",
        "            bins = 15, height = 5, aspect = 8/5)\n",
        "plt.title('Histogram of the Runtime Minutes of Movies')\n",
        "plt.show()"
      ],
      "id": "runtime-minutes-EDA",
      "execution_count": null,
      "outputs": []
    },
    {
      "cell_type": "markdown",
      "metadata": {},
      "source": [
        "The histogram above shows that most movies have a run time between 50 and 100 minutes. There are more movies that are slightly below the 100 minutes mark as seen in the bar spike. \n"
      ],
      "id": "de53a203"
    },
    {
      "cell_type": "code",
      "metadata": {},
      "source": [
        "#| label: average-rating-EDA\n",
        "\n",
        "print(df['average_rating'].describe())\n",
        "\n",
        "# histogram\n",
        "sns.displot(data = df, x = \"average_rating\", \n",
        "            bins = 15, height = 5, aspect = 8/5)\n",
        "plt.title('Histogram of the Average Rating of Movies')\n",
        "plt.show()"
      ],
      "id": "average-rating-EDA",
      "execution_count": null,
      "outputs": []
    },
    {
      "cell_type": "markdown",
      "metadata": {},
      "source": [
        "* The maximum average rating is 10 and the mimimum is 1. The median is 6.1.\n",
        "* The average rating of movies from the histogram appears to be normally distributed.\n"
      ],
      "id": "82d8e18c"
    },
    {
      "cell_type": "code",
      "metadata": {},
      "source": [
        "#| label: categorical-variables-EDA\n",
        "\n",
        "print(df.describe(exclude = [np.number]))\n",
        "\n",
        "# bar plot of top 10 movie titles\n",
        "top_10_movie_title = df['original_title'].value_counts()[:10]\n",
        "top_10_movie_title.plot(kind='barh',figsize=(10,8))\n",
        "plt.title('Top 10 Movie Titles')\n",
        "plt.show()\n",
        "\n",
        "# bar plot for title type\n",
        "title_type = df['title_type'].value_counts()\n",
        "title_type.plot(kind='bar',figsize=(10,8))\n",
        "plt.title('Top 10 Movie Title Types')\n",
        "plt.xticks(rotation=0)\n",
        "plt.show()\n",
        "\n",
        "# bar plot for genres\n",
        "top_10_genres = df['genres'].value_counts()[:10]\n",
        "top_10_genres.plot(kind='barh',figsize=(10,8))\n",
        "plt.title('Top 10 Movie Genres')\n",
        "plt.show()"
      ],
      "id": "categorical-variables-EDA",
      "execution_count": null,
      "outputs": []
    },
    {
      "cell_type": "markdown",
      "metadata": {},
      "source": [
        "From the plots bar plots above, we can observe the following:\n",
        "* The most popular holiday movie title is \"A Christmas Carol\".\n",
        "* tvMovie is the most popular title type. \n",
        "* Comedy is the most popular holiday movie genre\n"
      ],
      "id": "480fee64"
    },
    {
      "cell_type": "code",
      "metadata": {},
      "source": [
        "#| label: scatter-plots-association\n",
        "\n",
        "# association between runtime_minutes and num_votes\n",
        "sns.set_theme(style = \"whitegrid\")\n",
        "sns.scatterplot(data = df, x = \"runtime_minutes\", y = \"num_votes\")\n",
        "plt.show()\n",
        "\n",
        "# association between runtime_minutes and average_rating\n",
        "sns.set_theme(style = \"whitegrid\")\n",
        "sns.scatterplot(data = df, x = \"runtime_minutes\", y = \"average_rating\")\n",
        "plt.show()\n",
        "\n",
        "# association between year and runtime_minutes\n",
        "sns.set_theme(style = \"whitegrid\")\n",
        "sns.scatterplot(data = df, x = \"year\", y = \"runtime_minutes\")\n",
        "plt.show()"
      ],
      "id": "scatter-plots-association",
      "execution_count": null,
      "outputs": []
    },
    {
      "cell_type": "markdown",
      "metadata": {},
      "source": [
        "From the scatter plots above, we can conclude that:\n",
        "* There is no distinct pattern to show a relationship between the runtime_minutes and num_votes\n",
        "* There is no distinct pattern to show a relationship between the runtime_minutes and average_rating\n",
        "* There is no distinct pattern to show a relationship between the year and runtime_minutes\n",
        "\n",
        "#### Data Preprocessing\n",
        "Data preprocessing involves cleaning and transforming the data in a presentable and understandable format for further analysis. This step ensures that the quality of data is improved before answering pre-defined questions. \n"
      ],
      "id": "a1d2b756"
    },
    {
      "cell_type": "code",
      "metadata": {},
      "source": [
        "#| label: Identify-missing-values\n",
        "\n",
        "# Check for missing values\n",
        "df.isnull().sum()\n",
        "msno.bar(df, figsize = (7, 5), fontsize = 10)\n",
        "plt.tight_layout()\n",
        "plt.show()"
      ],
      "id": "Identify-missing-values",
      "execution_count": null,
      "outputs": []
    },
    {
      "cell_type": "markdown",
      "metadata": {},
      "source": [
        "Runtime minutes and genres are the only two variables with missing values. \n"
      ],
      "id": "e1dc6c14"
    },
    {
      "cell_type": "code",
      "metadata": {},
      "source": [
        "#| label: handling-missing-values\n",
        "\n",
        "# Drop rows where 'genres' is missing \n",
        "df_cleaned = df.dropna(subset=['genres']).copy()\n",
        "\n",
        "# Impute missing values in 'runtime_minutes' with the median of the non-missing values\n",
        "median_runtime = df_cleaned['runtime_minutes'].median()\n",
        "df_cleaned.loc[:, 'runtime_minutes'] = df_cleaned['runtime_minutes'].fillna(median_runtime)\n",
        "\n",
        "# Verify the imputation by checking if there are still missing values in 'runtime_minutes'\n",
        "missing_after_imputation = df_cleaned.isnull().sum()\n",
        "print(f\"Missing Value after modification : {missing_after_imputation}\")"
      ],
      "id": "handling-missing-values",
      "execution_count": null,
      "outputs": []
    },
    {
      "cell_type": "code",
      "metadata": {},
      "source": [
        "#| label: Create-new-variables\n",
        "\n",
        "# Calculate the length of each movie title using .loc to safely modify the DataFrame\n",
        "df_cleaned.loc[:, 'title_length'] = df_cleaned['original_title'].apply(len)\n",
        "\n",
        "# Determine the rating quartile for each movie\n",
        "df_cleaned.loc[:, 'rating_quartile'] = pd.qcut(df_cleaned['average_rating'], 4, labels=False)\n",
        "\n",
        "# Count the number of genres per movie, handling NaN if present\n",
        "df_cleaned.loc[:, 'genre_count'] = df_cleaned['genres'].apply(lambda x: len(x.split(',')) if pd.notnull(x) else 0)\n",
        "\n",
        "# Filter to include only movies in the 3rd and 4th rating quartiles and use .copy() for top_movies\n",
        "top_movies = df_cleaned[df_cleaned['rating_quartile'] >= 2].copy()\n",
        "\n",
        "# Organize the data by decades using .loc to avoid SettingWithCopyWarning\n",
        "top_movies.loc[:, 'decade'] = (top_movies['year'] // 10) * 10\n",
        "\n",
        "#Merge the new genre dataset with the  existing cleaned DataFrame\n",
        "merged_df = pd.merge(top_movies, new_genres, on = 'tconst', how = 'left')\n",
        "\n",
        "# display the first five rows of top_movies\n",
        "top_movies.head()"
      ],
      "id": "Create-new-variables",
      "execution_count": null,
      "outputs": []
    },
    {
      "cell_type": "code",
      "metadata": {},
      "source": [
        "#| label: Genre-Analysis\n",
        "\n",
        "# Count the frequency of each genre within the 3rd and 4th rating quartiles\n",
        "genre_counts = merged_df['genres_y'].value_counts()\n",
        "plt.figure(figsize=(12, 8))\n",
        "sns.barplot(x = genre_counts.values, y = genre_counts.index, hue = genre_counts.index, palette = 'viridis', legend = False)\n",
        "plt.xlabel('Number of Movies')\n",
        "plt.ylabel('Genre')\n",
        "plt.title('Most Common Genres Among Top-Rated Holiday Movies')\n",
        "plt.show()"
      ],
      "id": "Genre-Analysis",
      "execution_count": null,
      "outputs": []
    },
    {
      "cell_type": "markdown",
      "metadata": {},
      "source": [
        "From the genre distribution bar plot, we can observe that Comedy and Drama are the most common genres among top-rated holiday movies. This predominance might suggest that audiences tend to prefer lighter and more emotionally resonant stories during holiday seasons, which aligns with the festive and familial spirit of such times. Family and Romance genres follow, which further emphasizes the desire for movies that bring people together, reflecting typical holiday themes centered around love, family, and togetherness.\n"
      ],
      "id": "19dc6aaa"
    },
    {
      "cell_type": "code",
      "metadata": {},
      "source": [
        "#| label: Duration-Analysis-plot\n",
        "\n",
        "# Create a boxplot to visualize the distribution of movie runtimes across different rating quartiles\n",
        "# 'x' specifies the categorical variable 'rating_quartile' for the x-axis\n",
        "# 'y' specifies the numerical variable 'runtime_minutes' for the y-axis\n",
        "plt.figure(figsize=(12, 8))\n",
        "sns.boxplot(x = \"rating_quartile\", y = \"runtime_minutes\", data = top_movies)\n",
        "plt.xlabel(\"Rating Quartile\")\n",
        "plt.ylabel(\"Runtime(min)\")\n",
        "plt.title(\"Rating Quartile vs Runtime in Movies\")\n",
        "plt.show()"
      ],
      "id": "Duration-Analysis-plot",
      "execution_count": null,
      "outputs": []
    },
    {
      "cell_type": "markdown",
      "metadata": {},
      "source": [
        "The plot showcasing the relationship between movie runtime and rating quartile indicates that there isn't a strong preference for movie length within the top rating quartiles. While there is a concentration of movies with runtimes around 100 minutes (typical for standard feature films), the presence of highly-rated movies with longer runtimes suggests that a film's duration is less significant to its reception compared to other factors such as story, acting, and direction. However, the spread of runtimes in the 3rd quartile is narrower than in the 4th, hinting that exceptionally well-received movies might have a tighter consistency in their duration.\n"
      ],
      "id": "f7045164"
    },
    {
      "cell_type": "code",
      "metadata": {},
      "source": [
        "#| label: Title-Length-Analysis-plot\n",
        "\n",
        "# Create a line plot to visualize the relationship between the length of movie titles and their average ratings\n",
        "# 'x' specifies the numerical variable 'title_length' for the x-axis\n",
        "# 'y' specifies the numerical variable 'average_rating' for the y-axis\n",
        "plt.figure(figsize=(12, 8))\n",
        "sns.lineplot(x = \"title_length\", y = \"average_rating\", data = top_movies, color = \"purple\", errorbar = None)\n",
        "x_intervals = np.arange(0, max(top_movies['title_length']) + 10, 10)\n",
        "plt.xticks(x_intervals)\n",
        "plt.xlabel(\"Title Length\")\n",
        "plt.ylabel(\"Average Rating\")\n",
        "plt.title(\"Title Length vs Average Rating in Movies\")\n",
        "plt.show()"
      ],
      "id": "Title-Length-Analysis-plot",
      "execution_count": null,
      "outputs": []
    },
    {
      "cell_type": "markdown",
      "metadata": {},
      "source": [
        "The line plot correlating title length with average rating shows a more erratic relationship. While no clear trend is discernible, there appears to be a slight tendency for movies with shorter titles to have higher ratings, although there are exceptions at various points. This might imply that conciseness in a title could be associated with a film's memorability or marketing effectiveness, but the numerous outliers make it difficult to draw a definitive conclusion.\n",
        "\n",
        "## What kind of holiday movies earn the most money?\n",
        "\n",
        "### Introduction\n",
        "* We will look at the correlations between movie features (such as year of production, duration, length of title, rating, genres, and type of holiday) and the amount of earnings the movie generated. For that, we will supplement the existing dataset with box office information using IMDb's API. These observations may be useful in developing a model for estimating the investment worthiness of a movie (whether in production stage or adding an existing movie to a portfolio).\n",
        "\n",
        "### Approach\n",
        "* At first glance, the *tconst* column in the dataset may seem redundant. After all, we have the indices, why would we need other identifiers? These variables become useful when we need to get additional data about the movies. Using IMDB's API, we will populate a new column called *earnings*. It will allow us to answer our question and make additional useful observations.\n",
        "\n",
        "### Analysis\n",
        "* In order to not expose the API key and not to waste many minutes of time on real-time execution, the code below is not executable. Instead, we will generate the *earnings* column once, update a copy of our dataset and have it readily available in the /data folder. The function below does just that: using the *tconst* variable, it makes a call to IMDb's API and returns the gross movie earnings.\n",
        "\n",
        "```\n",
        "import json\n",
        "import boto3\n",
        "\n",
        "\n",
        "def get_earnings(tconst)\n",
        "    # Instantiate DataExchange client\n",
        "    CLIENT = boto3.client('dataexchange', region_name='us-east-1')\n",
        "\n",
        "    DATA_SET_ID = '<Dataset ID>'\n",
        "    REVISION_ID = '<Revision ID>'\n",
        "    ASSET_ID    = '<Asset ID>'\n",
        "    API_KEY     = '<API Key>'\n",
        "\n",
        "    query = \"\"\"\n",
        "    {title(id: tconst) {\n",
        "        # Get the international opening weekend gross for WALL·E\n",
        "        openingWeekendGross(boxOfficeArea: INTERNATIONAL) {\n",
        "        gross {\n",
        "            total {\n",
        "            amount\n",
        "            currency\n",
        "            }\n",
        "        }\n",
        "        # Get the date of the opening weekend end date\n",
        "        weekendEndDate\n",
        "        }\n",
        "    }\n",
        "    }\n",
        "    \"\"\"\n",
        "\n",
        "    METHOD = 'POST'\n",
        "    PATH = '/v1'\n",
        "\n",
        "    response = CLIENT.send_api_asset(\n",
        "        DataSetId=DATA_SET_ID,\n",
        "        RevisionId=REVISION_ID,\n",
        "        AssetId=ASSET_ID,\n",
        "        Method=METHOD,\n",
        "        Path=PATH,\n",
        "        Body=BODY,\n",
        "        RequestHeaders={\n",
        "            'x-api-key': API_KEY\n",
        "        },\n",
        "    )\n",
        "\n",
        "    return response['Data']['gross']\n",
        "```\n",
        "*Disclaimer: IMDb's API is extremely pricey, so we do not make actual calls, but rather simulate the data for demonstrative purposes. However, all the shown functions and actions have been carefully crafted in accordance with IMDb's API documentation. They will work provided a valid API key*\n",
        "\n",
        "We load the data in and convert the values into millions of USD by dividing every value by 1,000,000. Then we will proceed to explore a few relationships to see if any features in our dataset correlate to earnings.\n"
      ],
      "id": "adfc7714"
    },
    {
      "cell_type": "code",
      "metadata": {},
      "source": [
        "#| label: load-earnings-data\n",
        "\n",
        "df_earnings = pd.read_csv('data/holiday_movies_earnings.csv')\n",
        "\n",
        "# earnings in million dollars\n",
        "df_earnings['earnings'] = df_earnings['earnings'] // 1000000 \n",
        "df_earnings.head()"
      ],
      "id": "load-earnings-data",
      "execution_count": null,
      "outputs": []
    },
    {
      "cell_type": "code",
      "metadata": {},
      "source": [
        "#| label: year-earnings-relationship\n",
        "\n",
        "data_copy = df_earnings.copy()\n",
        "averages = data_copy.groupby('year')['earnings'].mean()\n",
        "\n",
        "scatter = sns.scatterplot(data=averages.to_frame(), x = \"year\", y = \"earnings\")\n",
        "labels = scatter.set(xlabel = \"Year\", ylabel = \"Earnings (in mln USD)\", title = \"Year-earnings relationship\")\n",
        "plt.show()"
      ],
      "id": "year-earnings-relationship",
      "execution_count": null,
      "outputs": []
    },
    {
      "cell_type": "markdown",
      "metadata": {},
      "source": [
        "From the plot above, we can observe that there are more outliers before 1980. There are both extremely high earners and movies that made very little. There is less data on older movies, so this information has to be taken with a grain of salt. It could be simply a result of too few datapoints.\n"
      ],
      "id": "5cb51d1b"
    },
    {
      "cell_type": "code",
      "metadata": {},
      "source": [
        "#| label: rating-earnings-relationship\n",
        "\n",
        "data_copy = df_earnings.copy()\n",
        "averages = data_copy.groupby('average_rating')['earnings'].mean()\n",
        "\n",
        "scatter = sns.scatterplot(data=averages.to_frame(),x = \"average_rating\", y = \"earnings\")\n",
        "labels = scatter.set(xlabel =\"Rating\", ylabel = \"Earnings (in mln USD)\", title = \"Rating-earnings relationship\")\n",
        "plt.show()"
      ],
      "id": "rating-earnings-relationship",
      "execution_count": null,
      "outputs": []
    },
    {
      "cell_type": "markdown",
      "metadata": {},
      "source": [
        "As we may intuitively expect from the above plot, there indeed seems to be a correlation between the average rating of a movie and its earnings. The more people like the movie, the more tickets it sells.\n"
      ],
      "id": "b670f265"
    },
    {
      "cell_type": "code",
      "metadata": {},
      "source": [
        "# Merge the genre data with the earnings data on the common key (assuming it's 'tconst' here)\n",
        "merged_data = pd.merge(new_genres, df_earnings, on='tconst', how='inner')\n",
        "\n",
        "# Split the genres into lists if they're combined in a single string, assuming they're separated by commas\n",
        "merged_data['genres_list'] = merged_data['genres_y'].str.split(',')\n",
        "\n",
        "# Explode the DataFrame so each genre gets its own row\n",
        "merged_data_exploded = merged_data.explode('genres_list')\n",
        "\n",
        "# Calculate the average earnings for each genre\n",
        "average_earnings_by_genre = merged_data_exploded.groupby('genres_list')['earnings'].mean().reset_index()\n",
        "\n",
        "# Create a bar plot to show average earnings by genre\n",
        "plt.figure(figsize=(12, 8))\n",
        "sns.barplot(x='earnings', y='genres_list', data=average_earnings_by_genre.sort_values('earnings', ascending=False))\n",
        "plt.xlabel('Average Earnings (in million USD)')\n",
        "plt.ylabel('Genre')\n",
        "plt.title('Average Earnings by Movie Genre')\n",
        "plt.xticks(rotation=45)\n",
        "plt.show()"
      ],
      "id": "897af7e8",
      "execution_count": null,
      "outputs": []
    },
    {
      "cell_type": "markdown",
      "metadata": {},
      "source": [
        "Thriller, Crime, and Western genres seem to lead the pack with the highest average earnings, with Thriller noticeably ahead. This suggests that movies in these genres, on average, earn more at the box office than other genres.\n"
      ],
      "id": "0743ccf4"
    },
    {
      "cell_type": "code",
      "metadata": {},
      "source": [
        "#| label: duration-earnings-relationship\n",
        "# Merge the data on a common key, let's say 'tconst' which should be present in both dataframes\n",
        "merged_data1 = pd.merge(df[['tconst', 'runtime_minutes']], df_earnings[['tconst', 'earnings']], on='tconst', how='inner')\n",
        "\n",
        "# Now that we have a merged DataFrame with runtime and earnings, we can group by runtime and calculate average earnings\n",
        "duration_earnings = merged_data1.groupby('runtime_minutes')['earnings'].mean().reset_index()\n",
        "\n",
        "# Create a scatter plot to visualize the relationship between movie duration and average earnings\n",
        "plt.figure(figsize=(12, 8))\n",
        "scatter = sns.scatterplot(x=\"runtime_minutes\", y=\"earnings\", data=duration_earnings)\n",
        "labels = scatter.set(xlabel=\"Runtime Minutes\", ylabel=\"Earnings (in million USD)\", title=\"Runtime-Earnings Relationship\")\n",
        "plt.show()"
      ],
      "id": "duration-earnings-relationship",
      "execution_count": null,
      "outputs": []
    },
    {
      "cell_type": "markdown",
      "metadata": {},
      "source": [
        "There does not appear to be a strong linear relationship between the runtime of a movie and its earnings. The scatter plot does not indicate a clear trend that would suggest longer or shorter movies earn more money consistently.\n"
      ],
      "id": "ae0512b3"
    },
    {
      "cell_type": "code",
      "metadata": {},
      "source": [
        "#| label: holiday-type-earnings-relationship\n",
        "\n",
        "# Initialize an empty list to store average earnings by holiday type\n",
        "holiday_earnings_list = []\n",
        "\n",
        "# Calculate the average earnings for each holiday type\n",
        "for holiday in ['christmas', 'hanukkah', 'kwanzaa', 'holiday']:\n",
        "    # Filter the DataFrame to include only movies associated with the holiday\n",
        "    holiday_df = merged_data[merged_data[holiday] == True]\n",
        "    # Calculate the mean earnings for the holiday\n",
        "    average_earnings = holiday_df['earnings'].mean()\n",
        "    # Create a dictionary of the results and append to the list\n",
        "    holiday_earnings_list.append({'Holiday Type': holiday, 'Average Earnings': average_earnings})\n",
        "\n",
        "# Convert the list of dictionaries to a DataFrame\n",
        "holiday_earnings = pd.DataFrame(holiday_earnings_list)\n",
        "\n",
        "# Convert the 'Average Earnings' to millions USD for better readability\n",
        "#holiday_earnings['Average Earnings (in million USD)'] = holiday_earnings['Average Earnings'] / 1000000\n",
        "\n",
        "# Create a bar plot to show average earnings by holiday type\n",
        "plt.figure(figsize=(12, 8))\n",
        "sns.barplot(x = 'Average Earnings', y = 'Holiday Type', data = holiday_earnings)\n",
        "plt.xlabel('Average Earnings (in million USD)')\n",
        "plt.ylabel('Holiday Type')\n",
        "plt.title('Average Earnings by Holiday Type')\n",
        "plt.show()"
      ],
      "id": "holiday-type-earnings-relationship",
      "execution_count": null,
      "outputs": []
    },
    {
      "cell_type": "markdown",
      "metadata": {},
      "source": [
        "The bar chart illustrates that hanukkah-themed movies are the highest earners, followed by films about holidays in general. Movies about Holiday and Kwanzaa have notably lower average earnings, suggesting that hanukkah films are the most commercially successful within holiday genres."
      ],
      "id": "956e4e32"
    }
  ],
  "metadata": {
    "kernelspec": {
      "display_name": "Python 3",
      "language": "python",
      "name": "python3"
    }
  },
  "nbformat": 4,
  "nbformat_minor": 5
}